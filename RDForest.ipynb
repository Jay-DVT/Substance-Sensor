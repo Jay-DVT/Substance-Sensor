{
 "cells": [
  {
   "cell_type": "code",
   "execution_count": 5,
   "metadata": {},
   "outputs": [],
   "source": [
    "import pandas as pd\n",
    "import numpy as np\n",
    "import matplotlib.pyplot as plt\n",
    "from sklearn.ensemble import RandomForestClassifier\n",
    "from sklearn.metrics import classification_report, confusion_matrix, accuracy_score\n",
    "from sklearn.preprocessing import LabelEncoder\n",
    "from sklearn.model_selection import train_test_split"
   ]
  },
  {
   "cell_type": "code",
   "execution_count": 27,
   "metadata": {},
   "outputs": [
    {
     "name": "stdout",
     "output_type": "stream",
     "text": [
      "(215, 12)\n",
      "(11, 215)\n"
     ]
    }
   ],
   "source": [
    "# Load the dataset again\n",
    "df = pd.read_csv('sensor poli AG D.csv')\n",
    "\n",
    "print(df.shape)\n",
    " \n",
    "# Transpose the data so that each row is a feature vector and each column is a different sample\n",
    "df_transposed = df.T\n",
    "\n",
    "# Drop Frecuncy row\n",
    "df_transposed = df_transposed.drop(['Frecuencia'])\n",
    "\n",
    "\n",
    "\n",
    "df_transposed.head()"
   ]
  },
  {
   "cell_type": "code",
   "execution_count": 21,
   "metadata": {},
   "outputs": [
    {
     "name": "stdout",
     "output_type": "stream",
     "text": [
      "                             0         1         2         3         4    \\\n",
      "Glifo Poli Ag D 0.1v2  -12.89315 -13.61609 -13.77256 -13.74865 -13.78471   \n",
      "Glifo Poli Ag D 0.08v2 -12.01460 -12.65465 -12.74480 -12.77049 -12.76089   \n",
      "Glifo Poli Ag D 0.04v2  -5.97928  -6.30817  -6.37285  -6.38177  -6.40277   \n",
      "Glifo Poli Ag D 0.02v2  -3.03886  -3.30696  -3.37440  -3.37529  -3.40300   \n",
      "Glifo Poli Ag D 0.01v2  -1.55245  -1.85888  -1.91953  -1.96510  -1.98613   \n",
      "Poli Ag D Agua V2        0.49985   0.17380   0.10189   0.06389   0.04999   \n",
      "KCl Poli Ag D 0.1v2    -23.26938 -31.58552 -31.80176 -31.22355 -30.80263   \n",
      "KCl Poli Ag D 0.08v2   -17.18667 -19.94458 -20.27882 -20.35018 -20.17822   \n",
      "KCl Poli Ag D 0.04v2    -7.32578  -7.75541  -7.84214  -7.85447  -7.84297   \n",
      "KCl Poli Ag D 0.02v2    -3.35625  -3.65051  -3.70895  -3.75079  -3.76051   \n",
      "KCl Poli Ag D 0.01v2    -1.38565  -1.66762  -1.73524  -1.77451  -1.79645   \n",
      "\n",
      "                             5         6          7         8         9    \\\n",
      "Glifo Poli Ag D 0.1v2  -13.79440 -13.77658 -13.744380 -13.69121 -13.62620   \n",
      "Glifo Poli Ag D 0.08v2 -12.80079 -12.76253 -12.728090 -12.69965 -12.65099   \n",
      "Glifo Poli Ag D 0.04v2  -6.40634  -6.41981  -6.417800  -6.41745  -6.40451   \n",
      "Glifo Poli Ag D 0.02v2  -3.41587  -3.43830  -3.450110  -3.45174  -3.44796   \n",
      "Glifo Poli Ag D 0.01v2  -2.00226  -2.02264  -2.039550  -2.04005  -2.05280   \n",
      "Poli Ag D Agua V2        0.03638   0.01162  -0.000647   0.00499  -0.00121   \n",
      "KCl Poli Ag D 0.1v2    -30.05995 -29.31885 -28.664290 -27.78072 -27.14083   \n",
      "KCl Poli Ag D 0.08v2   -20.22753 -20.07024 -19.969930 -19.82139 -19.64562   \n",
      "KCl Poli Ag D 0.04v2    -7.88111  -7.87133  -7.866060  -7.85492  -7.85022   \n",
      "KCl Poli Ag D 0.02v2    -3.76786  -3.77997  -3.791750  -3.78640  -3.78925   \n",
      "KCl Poli Ag D 0.01v2    -1.78722  -1.82057  -1.835720  -1.83460  -1.84057   \n",
      "\n",
      "                        ...      205      206      207      208      209  \\\n",
      "Glifo Poli Ag D 0.1v2   ... -3.47402 -3.47038 -3.46419 -3.44950 -3.44365   \n",
      "Glifo Poli Ag D 0.08v2  ... -3.40294 -3.40219 -3.39693 -3.38543 -3.38499   \n",
      "Glifo Poli Ag D 0.04v2  ... -2.42153 -2.42058 -2.41652 -2.40969 -2.41271   \n",
      "Glifo Poli Ag D 0.02v2  ... -1.79175 -1.79685 -1.80145 -1.79654 -1.80060   \n",
      "Glifo Poli Ag D 0.01v2  ... -1.48791 -1.50156 -1.50278 -1.49742 -1.50221   \n",
      "Poli Ag D Agua V2       ... -0.94276 -0.95022 -0.95531 -0.95304 -0.96421   \n",
      "KCl Poli Ag D 0.1v2     ... -4.35966 -4.34373 -4.31970 -4.31193 -4.29044   \n",
      "KCl Poli Ag D 0.08v2    ... -3.85563 -3.84370 -3.82415 -3.81782 -3.79945   \n",
      "KCl Poli Ag D 0.04v2    ... -2.53188 -2.53017 -2.51133 -2.51533 -2.50678   \n",
      "KCl Poli Ag D 0.02v2    ... -1.74899 -1.75545 -1.74357 -1.75759 -1.74817   \n",
      "KCl Poli Ag D 0.01v2    ... -1.40065 -1.41226 -1.39868 -1.40894 -1.40572   \n",
      "\n",
      "                            210      211      212      213      214  \n",
      "Glifo Poli Ag D 0.1v2  -3.43692 -3.42663 -3.41515 -3.40555 -3.39237  \n",
      "Glifo Poli Ag D 0.08v2 -3.37353 -3.36578 -3.35355 -3.34801 -3.33467  \n",
      "Glifo Poli Ag D 0.04v2 -2.40507 -2.40267 -2.39565 -2.39022 -2.38496  \n",
      "Glifo Poli Ag D 0.02v2 -1.80370 -1.80682 -1.80135 -1.80090 -1.79881  \n",
      "Glifo Poli Ag D 0.01v2 -1.50164 -1.50201 -1.49987 -1.49727 -1.50043  \n",
      "Poli Ag D Agua V2      -0.96332 -0.96494 -0.96478 -0.96665 -0.96658  \n",
      "KCl Poli Ag D 0.1v2    -4.27930 -4.26548 -4.25753 -4.23797 -4.21980  \n",
      "KCl Poli Ag D 0.08v2   -3.79349 -3.78492 -3.77602 -3.76706 -3.74248  \n",
      "KCl Poli Ag D 0.04v2   -2.50542 -2.50315 -2.50099 -2.49449 -2.47700  \n",
      "KCl Poli Ag D 0.02v2   -1.75567 -1.75896 -1.76084 -1.76015 -1.74664  \n",
      "KCl Poli Ag D 0.01v2   -1.41120 -1.41255 -1.41641 -1.41280 -1.40459  \n",
      "\n",
      "[11 rows x 215 columns]\n"
     ]
    },
    {
     "ename": "ValueError",
     "evalue": "Found input variables with inconsistent numbers of samples: [55, 11]",
     "output_type": "error",
     "traceback": [
      "\u001b[1;31m---------------------------------------------------------------------------\u001b[0m",
      "\u001b[1;31mValueError\u001b[0m                                Traceback (most recent call last)",
      "Cell \u001b[1;32mIn[21], line 13\u001b[0m\n\u001b[0;32m     10\u001b[0m X \u001b[39m=\u001b[39m pd\u001b[39m.\u001b[39mconcat([X] \u001b[39m*\u001b[39m \u001b[39m5\u001b[39m, ignore_index\u001b[39m=\u001b[39m\u001b[39mTrue\u001b[39;00m)\n\u001b[0;32m     12\u001b[0m \u001b[39m# Split the data into a training set and a validation set\u001b[39;00m\n\u001b[1;32m---> 13\u001b[0m X_train, X_val, y_train, y_val \u001b[39m=\u001b[39m train_test_split(X, y, test_size\u001b[39m=\u001b[39;49m\u001b[39m0.2\u001b[39;49m, random_state\u001b[39m=\u001b[39;49m\u001b[39m42\u001b[39;49m)\n\u001b[0;32m     14\u001b[0m X_train\u001b[39m.\u001b[39mshape, X_val\u001b[39m.\u001b[39mshape, y_train\u001b[39m.\u001b[39mshape, y_val\u001b[39m.\u001b[39mshape\n",
      "File \u001b[1;32mc:\\Users\\Diego\\Transfer\\CIMAV\\sensors\\Lib\\site-packages\\sklearn\\utils\\_param_validation.py:211\u001b[0m, in \u001b[0;36mvalidate_params.<locals>.decorator.<locals>.wrapper\u001b[1;34m(*args, **kwargs)\u001b[0m\n\u001b[0;32m    205\u001b[0m \u001b[39mtry\u001b[39;00m:\n\u001b[0;32m    206\u001b[0m     \u001b[39mwith\u001b[39;00m config_context(\n\u001b[0;32m    207\u001b[0m         skip_parameter_validation\u001b[39m=\u001b[39m(\n\u001b[0;32m    208\u001b[0m             prefer_skip_nested_validation \u001b[39mor\u001b[39;00m global_skip_validation\n\u001b[0;32m    209\u001b[0m         )\n\u001b[0;32m    210\u001b[0m     ):\n\u001b[1;32m--> 211\u001b[0m         \u001b[39mreturn\u001b[39;00m func(\u001b[39m*\u001b[39;49margs, \u001b[39m*\u001b[39;49m\u001b[39m*\u001b[39;49mkwargs)\n\u001b[0;32m    212\u001b[0m \u001b[39mexcept\u001b[39;00m InvalidParameterError \u001b[39mas\u001b[39;00m e:\n\u001b[0;32m    213\u001b[0m     \u001b[39m# When the function is just a wrapper around an estimator, we allow\u001b[39;00m\n\u001b[0;32m    214\u001b[0m     \u001b[39m# the function to delegate validation to the estimator, but we replace\u001b[39;00m\n\u001b[0;32m    215\u001b[0m     \u001b[39m# the name of the estimator by the name of the function in the error\u001b[39;00m\n\u001b[0;32m    216\u001b[0m     \u001b[39m# message to avoid confusion.\u001b[39;00m\n\u001b[0;32m    217\u001b[0m     msg \u001b[39m=\u001b[39m re\u001b[39m.\u001b[39msub(\n\u001b[0;32m    218\u001b[0m         \u001b[39mr\u001b[39m\u001b[39m\"\u001b[39m\u001b[39mparameter of \u001b[39m\u001b[39m\\\u001b[39m\u001b[39mw+ must be\u001b[39m\u001b[39m\"\u001b[39m,\n\u001b[0;32m    219\u001b[0m         \u001b[39mf\u001b[39m\u001b[39m\"\u001b[39m\u001b[39mparameter of \u001b[39m\u001b[39m{\u001b[39;00mfunc\u001b[39m.\u001b[39m\u001b[39m__qualname__\u001b[39m\u001b[39m}\u001b[39;00m\u001b[39m must be\u001b[39m\u001b[39m\"\u001b[39m,\n\u001b[0;32m    220\u001b[0m         \u001b[39mstr\u001b[39m(e),\n\u001b[0;32m    221\u001b[0m     )\n",
      "File \u001b[1;32mc:\\Users\\Diego\\Transfer\\CIMAV\\sensors\\Lib\\site-packages\\sklearn\\model_selection\\_split.py:2614\u001b[0m, in \u001b[0;36mtrain_test_split\u001b[1;34m(test_size, train_size, random_state, shuffle, stratify, *arrays)\u001b[0m\n\u001b[0;32m   2611\u001b[0m \u001b[39mif\u001b[39;00m n_arrays \u001b[39m==\u001b[39m \u001b[39m0\u001b[39m:\n\u001b[0;32m   2612\u001b[0m     \u001b[39mraise\u001b[39;00m \u001b[39mValueError\u001b[39;00m(\u001b[39m\"\u001b[39m\u001b[39mAt least one array required as input\u001b[39m\u001b[39m\"\u001b[39m)\n\u001b[1;32m-> 2614\u001b[0m arrays \u001b[39m=\u001b[39m indexable(\u001b[39m*\u001b[39;49marrays)\n\u001b[0;32m   2616\u001b[0m n_samples \u001b[39m=\u001b[39m _num_samples(arrays[\u001b[39m0\u001b[39m])\n\u001b[0;32m   2617\u001b[0m n_train, n_test \u001b[39m=\u001b[39m _validate_shuffle_split(\n\u001b[0;32m   2618\u001b[0m     n_samples, test_size, train_size, default_test_size\u001b[39m=\u001b[39m\u001b[39m0.25\u001b[39m\n\u001b[0;32m   2619\u001b[0m )\n",
      "File \u001b[1;32mc:\\Users\\Diego\\Transfer\\CIMAV\\sensors\\Lib\\site-packages\\sklearn\\utils\\validation.py:455\u001b[0m, in \u001b[0;36mindexable\u001b[1;34m(*iterables)\u001b[0m\n\u001b[0;32m    436\u001b[0m \u001b[39m\u001b[39m\u001b[39m\"\"\"Make arrays indexable for cross-validation.\u001b[39;00m\n\u001b[0;32m    437\u001b[0m \n\u001b[0;32m    438\u001b[0m \u001b[39mChecks consistent length, passes through None, and ensures that everything\u001b[39;00m\n\u001b[1;32m   (...)\u001b[0m\n\u001b[0;32m    451\u001b[0m \u001b[39m    sparse matrix, or dataframe) or `None`.\u001b[39;00m\n\u001b[0;32m    452\u001b[0m \u001b[39m\"\"\"\u001b[39;00m\n\u001b[0;32m    454\u001b[0m result \u001b[39m=\u001b[39m [_make_indexable(X) \u001b[39mfor\u001b[39;00m X \u001b[39min\u001b[39;00m iterables]\n\u001b[1;32m--> 455\u001b[0m check_consistent_length(\u001b[39m*\u001b[39;49mresult)\n\u001b[0;32m    456\u001b[0m \u001b[39mreturn\u001b[39;00m result\n",
      "File \u001b[1;32mc:\\Users\\Diego\\Transfer\\CIMAV\\sensors\\Lib\\site-packages\\sklearn\\utils\\validation.py:409\u001b[0m, in \u001b[0;36mcheck_consistent_length\u001b[1;34m(*arrays)\u001b[0m\n\u001b[0;32m    407\u001b[0m uniques \u001b[39m=\u001b[39m np\u001b[39m.\u001b[39munique(lengths)\n\u001b[0;32m    408\u001b[0m \u001b[39mif\u001b[39;00m \u001b[39mlen\u001b[39m(uniques) \u001b[39m>\u001b[39m \u001b[39m1\u001b[39m:\n\u001b[1;32m--> 409\u001b[0m     \u001b[39mraise\u001b[39;00m \u001b[39mValueError\u001b[39;00m(\n\u001b[0;32m    410\u001b[0m         \u001b[39m\"\u001b[39m\u001b[39mFound input variables with inconsistent numbers of samples: \u001b[39m\u001b[39m%r\u001b[39;00m\u001b[39m\"\u001b[39m\n\u001b[0;32m    411\u001b[0m         \u001b[39m%\u001b[39m [\u001b[39mint\u001b[39m(l) \u001b[39mfor\u001b[39;00m l \u001b[39min\u001b[39;00m lengths]\n\u001b[0;32m    412\u001b[0m     )\n",
      "\u001b[1;31mValueError\u001b[0m: Found input variables with inconsistent numbers of samples: [55, 11]"
     ]
    }
   ],
   "source": [
    "\n",
    "# Convert column names to numeric labels\n",
    "le = LabelEncoder()\n",
    "df_transposed['Label'] = le.fit_transform(df_transposed.index)\n",
    "\n",
    "# Split the data into features and labels\n",
    "X = df_transposed.drop('Label', axis=1)\n",
    "y = df_transposed['Label']\n",
    "\n",
    "# Split the data into a training set and a validation set\n",
    "X_train, X_val, y_train, y_val = train_test_split(X, y, test_size=0.2, random_state=42)\n",
    "X_train.shape, X_val.shape, y_train.shape, y_val.shape"
   ]
  },
  {
   "cell_type": "code",
   "execution_count": 19,
   "metadata": {},
   "outputs": [
    {
     "name": "stdout",
     "output_type": "stream",
     "text": [
      "Accuracy: 0.00%\n"
     ]
    }
   ],
   "source": [
    "# Initialize the model\n",
    "clf = RandomForestClassifier(n_estimators=100, random_state=42)\n",
    "\n",
    "# Train the model\n",
    "clf.fit(X_train, y_train)\n",
    "\n",
    "# Make predictions on the validation set\n",
    "y_pred = clf.predict(X_val)\n",
    "\n",
    "# Evaluate the model\n",
    "accuracy = accuracy_score(y_val, y_pred)\n",
    "print('Accuracy: {:.2f}%'.format(accuracy * 100))\n"
   ]
  }
 ],
 "metadata": {
  "kernelspec": {
   "display_name": "sensors",
   "language": "python",
   "name": "python3"
  },
  "language_info": {
   "codemirror_mode": {
    "name": "ipython",
    "version": 3
   },
   "file_extension": ".py",
   "mimetype": "text/x-python",
   "name": "python",
   "nbconvert_exporter": "python",
   "pygments_lexer": "ipython3",
   "version": "3.11.1"
  },
  "orig_nbformat": 4
 },
 "nbformat": 4,
 "nbformat_minor": 2
}
